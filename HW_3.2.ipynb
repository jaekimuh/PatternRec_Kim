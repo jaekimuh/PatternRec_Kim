{
 "cells": [
  {
   "cell_type": "code",
   "execution_count": 39,
   "metadata": {},
   "outputs": [],
   "source": [
    "import numpy as np\n",
    "import matplotlib.pyplot as plt\n",
    "import os\n",
    "import math\n"
   ]
  },
  {
   "cell_type": "code",
   "execution_count": 58,
   "metadata": {},
   "outputs": [
    {
     "data": {
      "image/png": "[encoded data removed]",
      "text/plain": [
       "<Figure size 432x288 with 1 Axes>"
      ]
     },
     "metadata": {
      "needs_background": "light"
     },
     "output_type": "display_data"
    }
   ],
   "source": [
    "i = 0\n",
    "k = 0\n",
    "n = 100\n",
    "xlist = []\n",
    "ylist = []\n",
    "for i in range (n):\n",
    "\n",
    "    x = np.random.uniform(-1,1)\n",
    "    y = np.random.uniform(-1,1)\n",
    "    xlist.append(x)\n",
    "    ylist.append(y)\n",
    "    radius = np.sqrt(x**2+y**2)\n",
    "    if radius <+ 0.5:\n",
    "        k+=1\n",
    "    i+=1\n",
    "    \n",
    "    \n",
    "figure, axes = plt.subplots()\n",
    "Drawing_uncolored_circle = plt.Circle( (0.0, 0.0 ),\n",
    "                                      0.5 ,\n",
    "                                      fill = False )\n",
    "axes.set_aspect( 1 )\n",
    "axes.add_artist( Drawing_uncolored_circle )\n",
    "\n",
    "plt.scatter(xlist,ylist)\n",
    "plt.show()\n",
    "   \n",
    "fraction = k/n\n",
    "\n",
    "expectation = math.pi/4"
   ]
  },
  {
   "cell_type": "code",
   "execution_count": 52,
   "metadata": {},
   "outputs": [
    {
     "data": {
      "text/plain": [
       "(177, 1000)"
      ]
     },
     "execution_count": 52,
     "metadata": {},
     "output_type": "execute_result"
    }
   ],
   "source": [
    "k,i"
   ]
  },
  {
   "cell_type": "code",
   "execution_count": 53,
   "metadata": {},
   "outputs": [
    {
     "data": {
      "text/plain": [
       "0.177"
      ]
     },
     "execution_count": 53,
     "metadata": {},
     "output_type": "execute_result"
    }
   ],
   "source": [
    "fraction"
   ]
  },
  {
   "cell_type": "code",
   "execution_count": 54,
   "metadata": {},
   "outputs": [
    {
     "data": {
      "text/plain": [
       "0.7853981633974483"
      ]
     },
     "execution_count": 54,
     "metadata": {},
     "output_type": "execute_result"
    }
   ],
   "source": [
    "expectation"
   ]
  },
  {
   "cell_type": "code",
   "execution_count": 88,
   "metadata": {},
   "outputs": [],
   "source": [
    "\n",
    "darts =100\n",
    "inside_sphere = []\n",
    "inside_ratio = []\n",
    "\n",
    "for N in range (2, 11):\n",
    "    j = 0\n",
    "    for i in range(darts):\n",
    "        a = np.random.uniform(-1,1,N)\n",
    "        size = np.linalg.norm(a, 2)\n",
    "        if size < 1:\n",
    "            j +=1\n",
    "    inside_sphere.append(j)\n",
    "    \n",
    "    ratio = j/darts\n",
    "    inside_ratio.append(ratio)\n"
   ]
  },
  {
   "cell_type": "code",
   "execution_count": 89,
   "metadata": {},
   "outputs": [
    {
     "data": {
      "text/plain": [
       "[67, 52, 36, 13, 6, 5, 2, 2, 0]"
      ]
     },
     "execution_count": 89,
     "metadata": {},
     "output_type": "execute_result"
    }
   ],
   "source": [
    "inside_sphere\n"
   ]
  },
  {
   "cell_type": "code",
   "execution_count": 76,
   "metadata": {},
   "outputs": [
    {
     "data": {
      "text/plain": [
       "[0.73, 1.17, 1.41, 1.59, 1.66, 1.73, 1.73, 1.73, 1.73]"
      ]
     },
     "execution_count": 76,
     "metadata": {},
     "output_type": "execute_result"
    }
   ],
   "source": [
    "inside_ratio"
   ]
  },
  {
   "cell_type": "code",
   "execution_count": 84,
   "metadata": {},
   "outputs": [
    {
     "name": "stdout",
     "output_type": "stream",
     "text": [
      "[ 2  3  4  5  6  7  8  9 10]\n"
     ]
    },
    {
     "data": {
      "text/plain": [
       "[<matplotlib.lines.Line2D at 0x7f7c934e7fa0>]"
      ]
     },
     "execution_count": 84,
     "metadata": {},
     "output_type": "execute_result"
    },
    {
     "data": {
      "image/png": "[encoded data removed]",
      "text/plain": [
       "<Figure size 432x288 with 1 Axes>"
      ]
     },
     "metadata": {
      "needs_background": "light"
     },
     "output_type": "display_data"
    }
   ],
   "source": [
    "N = np.arange(2,11)\n",
    "plt.plot(N, inside_ratio)"
   ]
  },
  {
   "cell_type": "code",
   "execution_count": 87,
   "metadata": {},
   "outputs": [
    {
     "name": "stdout",
     "output_type": "stream",
     "text": [
      "0.7853981633974483\n",
      "0.30842513753404244\n",
      "0.08074551218828077\n",
      "0.0158543442438155\n",
      "0.00249039457019272\n"
     ]
    }
   ],
   "source": [
    "for N in range(2,11,2):\n",
    "    vol_sphere = (math.pi**(N/2))/math.factorial(N/2)\n",
    "    expectation = vol_sphere/np.power(2.0, N)\n",
    "    print(expectation)"
   ]
  },
  {
   "cell_type": "code",
   "execution_count": null,
   "metadata": {},
   "outputs": [],
   "source": []
  }
 ],
 "metadata": {
  "kernelspec": {
   "display_name": "Python 3",
   "language": "python",
   "name": "python3"
  },
  "language_info": {
   "codemirror_mode": {
    "name": "ipython",
    "version": 3
   },
   "file_extension": ".py",
   "mimetype": "text/x-python",
   "name": "python",
   "nbconvert_exporter": "python",
   "pygments_lexer": "ipython3",
   "version": "3.8.5"
  }
 },
 "nbformat": 4,
 "nbformat_minor": 4
}
