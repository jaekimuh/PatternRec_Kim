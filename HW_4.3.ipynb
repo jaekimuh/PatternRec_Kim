{
 "cells": [
  {
   "cell_type": "code",
   "execution_count": 1,
   "metadata": {},
   "outputs": [],
   "source": [
    "import numpy as np\n",
    "import sklearn\n",
    "from sklearn import linear_model\n",
    "import matplotlib.pyplot as plt\n",
    "import scipy\n",
    "from sklearn.linear_model import Lasso\n",
    "import random"
   ]
  },
  {
   "cell_type": "markdown",
   "metadata": {},
   "source": [
    "### Compare the models for each against each other"
   ]
  },
  {
   "cell_type": "code",
   "execution_count": 2,
   "metadata": {},
   "outputs": [],
   "source": [
    "temp = np.array([75.0, 77.0, 76.0, 73.0, 69.0, 68.0, 63.0, 59.0,\n",
    "57.0, 55.0, 54.0, 52.0, 50.0, 50.0, 49.0, 49.0,\n",
    "49.0, 50.0, 54.0, 56.0, 59.0, 63.0, 67.0, 72.0 ])\n",
    "\n",
    "#time = list(range(1,25))\n",
    "\n",
    "x_time = np.arange(1, 25)\n",
    "\n",
    "\n",
    "n =24 # number of data points\n",
    "fn = np.copy(temp).T\n",
    "\n",
    "M = 10 # polynomial degree\n",
    "\n",
    "# Build matrix A\n",
    "phi = np.zeros((n, M+1))\n",
    "for j in range (M+1):\n",
    "    phi[:, j] = x_time**j\n",
    "\n"
   ]
  },
  {
   "cell_type": "code",
   "execution_count": 3,
   "metadata": {},
   "outputs": [],
   "source": [
    "# Least square fit\n",
    "def LeastSquare(func):\n",
    "    a1 = np.linalg.pinv(phi) @ func\n",
    "    return phi @ a1\n",
    "\n",
    "fn1 = LeastSquare(fn)\n",
    "# error\n",
    "def Error2(func):\n",
    "    return np.linalg.norm(fn - func, ord=2)/np.linalg.norm(fn, ord=2)\n",
    "\n",
    "E1 = Error2(fn1)"
   ]
  },
  {
   "cell_type": "code",
   "execution_count": 73,
   "metadata": {},
   "outputs": [
    {
     "name": "stderr",
     "output_type": "stream",
     "text": [
      "/Users/jaekim/opt/anaconda3/lib/python3.8/site-packages/sklearn/linear_model/_coordinate_descent.py:529: ConvergenceWarning: Objective did not converge. You might want to increase the number of iterations. Duality gap: 26.059172710290625, tolerance: 0.21445\n",
      "  model = cd_fast.enet_coordinate_descent(\n"
     ]
    }
   ],
   "source": [
    "# Lasso fit\n",
    "# define model\n",
    "def LassoModel(fn):\n",
    "    model = Lasso(alpha=1.0)\n",
    "    # fit model\n",
    "    model.fit(phi,fn)\n",
    "    #print(model.coef_)\n",
    "    a2 = model.coef_\n",
    "    return phi @ a2\n",
    "    \n",
    "fn2 = LassoModel(fn)\n",
    "#error\n",
    "E2 = Error2(fn2)\n",
    "\n"
   ]
  },
  {
   "cell_type": "code",
   "execution_count": 4,
   "metadata": {},
   "outputs": [
    {
     "name": "stderr",
     "output_type": "stream",
     "text": [
      "/Users/jaekim/opt/anaconda3/lib/python3.8/site-packages/sklearn/linear_model/_ridge.py:147: LinAlgWarning: Ill-conditioned matrix (rcond=1.69621e-28): result may not be accurate.\n",
      "  return linalg.solve(A, Xy, sym_pos=True,\n"
     ]
    }
   ],
   "source": [
    "# ridge regression\n",
    "def ridgeModel(fn):\n",
    "    ridge = linear_model.Ridge(alpha=1.0).fit(phi,fn)\n",
    "    a3 = ridge.coef_\n",
    "    return phi @ a3\n",
    "fn3 = ridgeModel(fn)\n",
    "E3 = Error2(fn3)"
   ]
  },
  {
   "cell_type": "code",
   "execution_count": 5,
   "metadata": {},
   "outputs": [
    {
     "name": "stderr",
     "output_type": "stream",
     "text": [
      "/Users/jaekim/opt/anaconda3/lib/python3.8/site-packages/sklearn/linear_model/_coordinate_descent.py:529: ConvergenceWarning: Objective did not converge. You might want to increase the number of iterations. Duality gap: 16.575513659438094, tolerance: 0.21445\n",
      "  model = cd_fast.enet_coordinate_descent(\n"
     ]
    }
   ],
   "source": [
    "# elastic net \n",
    "def elasticModel(fn):\n",
    "    regr3 = linear_model.ElasticNet(alpha=1.0, copy_X=True, max_iter=10**5,random_state=0)\n",
    "    regr3.fit(phi, fn)  \n",
    "    a4 = regr3.coef_\n",
    "    return phi @ a4\n",
    "\n",
    "fn4 = elasticModel(fn)\n",
    "E4 = np.linalg.norm(fn - fn4, ord=2)/np.linalg.norm(fn, ord=2)\n",
    "    "
   ]
  },
  {
   "cell_type": "code",
   "execution_count": 6,
   "metadata": {},
   "outputs": [
    {
     "name": "stdout",
     "output_type": "stream",
     "text": [
      "Least Square error:  0.008715082565341432\n"
     ]
    },
    {
     "ename": "NameError",
     "evalue": "name 'E2' is not defined",
     "output_type": "error",
     "traceback": [
      "\u001b[0;31m--------------------------------------------------------\u001b[0m",
      "\u001b[0;31mNameError\u001b[0m              Traceback (most recent call last)",
      "\u001b[0;32m<ipython-input-6-8ec117306f0c>\u001b[0m in \u001b[0;36m<module>\u001b[0;34m\u001b[0m\n\u001b[1;32m      1\u001b[0m \u001b[0mprint\u001b[0m\u001b[0;34m(\u001b[0m \u001b[0;34m'Least Square error: '\u001b[0m\u001b[0;34m,\u001b[0m \u001b[0mE1\u001b[0m\u001b[0;34m)\u001b[0m\u001b[0;34m\u001b[0m\u001b[0;34m\u001b[0m\u001b[0m\n\u001b[0;32m----> 2\u001b[0;31m \u001b[0mprint\u001b[0m\u001b[0;34m(\u001b[0m \u001b[0;34m'Lasso Error: '\u001b[0m\u001b[0;34m,\u001b[0m \u001b[0mE2\u001b[0m\u001b[0;34m)\u001b[0m\u001b[0;34m\u001b[0m\u001b[0;34m\u001b[0m\u001b[0m\n\u001b[0m\u001b[1;32m      3\u001b[0m \u001b[0mprint\u001b[0m\u001b[0;34m(\u001b[0m \u001b[0;34m'Ridge Error: '\u001b[0m\u001b[0;34m,\u001b[0m \u001b[0mE3\u001b[0m\u001b[0;34m)\u001b[0m\u001b[0;34m\u001b[0m\u001b[0;34m\u001b[0m\u001b[0m\n\u001b[1;32m      4\u001b[0m \u001b[0mprint\u001b[0m\u001b[0;34m(\u001b[0m \u001b[0;34m'Elaastic Error: '\u001b[0m\u001b[0;34m,\u001b[0m \u001b[0mE4\u001b[0m\u001b[0;34m)\u001b[0m\u001b[0;34m\u001b[0m\u001b[0;34m\u001b[0m\u001b[0m\n",
      "\u001b[0;31mNameError\u001b[0m: name 'E2' is not defined"
     ]
    }
   ],
   "source": [
    "print( 'Least Square error: ', E1)\n",
    "print( 'Lasso Error: ', E2)\n",
    "print( 'Ridge Error: ', E3)\n",
    "print( 'Elaastic Error: ', E4)"
   ]
  },
  {
   "cell_type": "markdown",
   "metadata": {},
   "source": [
    "### Corrupt temp measurement at random point"
   ]
  },
  {
   "cell_type": "code",
   "execution_count": 62,
   "metadata": {},
   "outputs": [
    {
     "name": "stdout",
     "output_type": "stream",
     "text": [
      "0\n",
      "[ 0. 77. 76. 73. 69. 68. 63. 59. 57. 55. 54. 52. 50. 50. 49. 49. 49. 50.\n",
      " 54. 56. 59. 63. 67. 72.]\n"
     ]
    }
   ],
   "source": [
    "pick = random.randint(0, n)\n",
    "print(pick)\n",
    "fc = np.copy(temp).T\n",
    "\n",
    "fc[pick] = 0\n"
   ]
  },
  {
   "cell_type": "markdown",
   "metadata": {},
   "source": [
    "### Compute errors"
   ]
  },
  {
   "cell_type": "code",
   "execution_count": 80,
   "metadata": {},
   "outputs": [
    {
     "name": "stdout",
     "output_type": "stream",
     "text": [
      "corrupted Least Square error:  0.2414639198170161\n",
      "corrupted Lasso Error:  1.245882634796049\n",
      "corrupted Ridge Error:  1.232385474449437\n",
      "corrupted Elaastic Error:  1.2688116851485995\n"
     ]
    },
    {
     "name": "stderr",
     "output_type": "stream",
     "text": [
      "/Users/jaekim/opt/anaconda3/lib/python3.8/site-packages/sklearn/linear_model/_coordinate_descent.py:529: ConvergenceWarning: Objective did not converge. You might want to increase the number of iterations. Duality gap: 26.059172710290625, tolerance: 0.21445\n",
      "  model = cd_fast.enet_coordinate_descent(\n",
      "/Users/jaekim/opt/anaconda3/lib/python3.8/site-packages/sklearn/linear_model/_ridge.py:147: LinAlgWarning: Ill-conditioned matrix (rcond=1.69621e-28): result may not be accurate.\n",
      "  return linalg.solve(A, Xy, sym_pos=True,\n",
      "/Users/jaekim/opt/anaconda3/lib/python3.8/site-packages/sklearn/linear_model/_coordinate_descent.py:529: ConvergenceWarning: Objective did not converge. You might want to increase the number of iterations. Duality gap: 16.575513659438094, tolerance: 0.21445\n",
      "  model = cd_fast.enet_coordinate_descent(\n"
     ]
    }
   ],
   "source": [
    "fc1 = LeastSquare(fc)\n",
    "EE1 = Error2(fc1)\n",
    "\n",
    "fc2 = LassoModel(fc)\n",
    "EE2 = Error2(fc2)\n",
    "\n",
    "fc3 = ridgeModel(fc)\n",
    "EE3 = Error2(fc3)\n",
    "\n",
    "fc4 = elasticModel(fc)\n",
    "EE4 = Error2(fc4)\n",
    "\n",
    "print( 'corrupted Least Square error: ', EE1)\n",
    "print( 'corrupted Lasso Error: ', EE2)\n",
    "print( 'corrupted Ridge Error: ', EE3)\n",
    "print( 'corrupted Elaastic Error: ', EE4)"
   ]
  },
  {
   "cell_type": "code",
   "execution_count": null,
   "metadata": {},
   "outputs": [],
   "source": []
  }
 ],
 "metadata": {
  "kernelspec": {
   "display_name": "Python 3",
   "language": "python",
   "name": "python3"
  },
  "language_info": {
   "codemirror_mode": {
    "name": "ipython",
    "version": 3
   },
   "file_extension": ".py",
   "mimetype": "text/x-python",
   "name": "python",
   "nbconvert_exporter": "python",
   "pygments_lexer": "ipython3",
   "version": "3.8.5"
  }
 },
 "nbformat": 4,
 "nbformat_minor": 4
}
