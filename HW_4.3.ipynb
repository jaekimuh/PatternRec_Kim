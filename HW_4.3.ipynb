{
 "cells": [
  {
   "cell_type": "code",
   "execution_count": 27,
   "metadata": {},
   "outputs": [],
   "source": [
    "import numpy as np\n",
    "import sklearn\n",
    "from sklearn import linear_model\n",
    "import matplotlib.pyplot as plt\n",
    "import scipy\n",
    "from sklearn.linear_model import Lasso\n"
   ]
  },
  {
   "cell_type": "markdown",
   "metadata": {},
   "source": [
    "#### Compare the models for each against each other"
   ]
  },
  {
   "cell_type": "code",
   "execution_count": 23,
   "metadata": {},
   "outputs": [],
   "source": [
    "temp = np.array([75.0, 77.0, 76.0, 73.0, 69.0, 68.0, 63.0, 59.0,\n",
    "57.0, 55.0, 54.0, 52.0, 50.0, 50.0, 49.0, 49.0,\n",
    "49.0, 50.0, 54.0, 56.0, 59.0, 63.0, 67.0, 72.0 ])\n",
    "\n",
    "#time = list(range(1,25))\n",
    "\n",
    "x_time = np.arange(1, 25)\n",
    "\n",
    "\n",
    "n =24 # number of data points\n",
    "fn = np.copy(temp).T\n",
    "\n",
    "M = 10 # polynomial degree\n",
    "\n",
    "# Build matrix A\n",
    "phi = np.zeros((n, M+1))\n",
    "for j in range (M+1):\n",
    "    phi[:, j] = x_time**j\n",
    "\n"
   ]
  },
  {
   "cell_type": "code",
   "execution_count": 33,
   "metadata": {},
   "outputs": [],
   "source": [
    "# Least square fit\n",
    "a1 = np.linalg.pinv(phi) @ fn\n",
    "fn1 = phi @ a1\n",
    "# error\n",
    "E1 = np.linalg.norm(fn - fn1, ord=2)/np.linalg.norm(fn, ord=2)\n"
   ]
  },
  {
   "cell_type": "code",
   "execution_count": 36,
   "metadata": {},
   "outputs": [
    {
     "name": "stderr",
     "output_type": "stream",
     "text": [
      "/Users/jaekim/opt/anaconda3/lib/python3.8/site-packages/sklearn/linear_model/_coordinate_descent.py:529: ConvergenceWarning: Objective did not converge. You might want to increase the number of iterations. Duality gap: 26.059172710290625, tolerance: 0.21445\n",
      "  model = cd_fast.enet_coordinate_descent(\n"
     ]
    }
   ],
   "source": [
    "# Lasso fit\n",
    "# define model\n",
    "model = Lasso(alpha=1.0)\n",
    "# fit model\n",
    "model.fit(phi,fn)\n",
    "#print(model.coef_)\n",
    "a2 = model.coef_\n",
    "fn2 = phi @ a2\n",
    "#error\n",
    "E2 = np.linalg.norm(fn - fn2, ord=2)/np.linalg.norm(fn, ord=2)\n",
    "\n"
   ]
  },
  {
   "cell_type": "code",
   "execution_count": 38,
   "metadata": {},
   "outputs": [
    {
     "name": "stderr",
     "output_type": "stream",
     "text": [
      "/Users/jaekim/opt/anaconda3/lib/python3.8/site-packages/sklearn/linear_model/_ridge.py:147: LinAlgWarning: Ill-conditioned matrix (rcond=1.69621e-28): result may not be accurate.\n",
      "  return linalg.solve(A, Xy, sym_pos=True,\n"
     ]
    }
   ],
   "source": [
    "# ridge regression\n",
    "\n",
    "ridge = linear_model.Ridge(alpha=1.0).fit(phi,fn)\n",
    "a3 = ridge.coef_\n",
    "fn3 = phi @ a3\n",
    "E3 = np.linalg.norm(fn-fn3,ord=2)/np.linalg.norm(fn,ord=2)\n"
   ]
  },
  {
   "cell_type": "code",
   "execution_count": 40,
   "metadata": {},
   "outputs": [
    {
     "name": "stderr",
     "output_type": "stream",
     "text": [
      "/Users/jaekim/opt/anaconda3/lib/python3.8/site-packages/sklearn/linear_model/_coordinate_descent.py:529: ConvergenceWarning: Objective did not converge. You might want to increase the number of iterations. Duality gap: 16.575513659438094, tolerance: 0.21445\n",
      "  model = cd_fast.enet_coordinate_descent(\n"
     ]
    }
   ],
   "source": [
    "# elastic net \n",
    "\n",
    "regr3 = linear_model.ElasticNet(alpha=1.0, copy_X=True, max_iter=10**5,random_state=0)\n",
    "regr3.fit(phi, fn)  \n",
    "a4 = regr3.coef_\n",
    "fn4 = phi @ a4\n",
    "E4 = np.linalg.norm(fn - fn4, ord=2)/np.linalg.norm(fn, ord=2)\n",
    "    "
   ]
  },
  {
   "cell_type": "code",
   "execution_count": 42,
   "metadata": {},
   "outputs": [
    {
     "name": "stdout",
     "output_type": "stream",
     "text": [
      "Least Square error:  0.008715082565341432\n",
      "Lasso Error:  1.245882634796049\n",
      "Ridge Error:  1.232385474449437\n",
      "Elaastic Error:  1.2688116851485995\n"
     ]
    }
   ],
   "source": [
    "print( 'Least Square error: ', E1)\n",
    "print( 'Lasso Error: ', E2)\n",
    "print( 'Ridge Error: ', E3)\n",
    "print( 'Elaastic Error: ', E4)"
   ]
  },
  {
   "cell_type": "code",
   "execution_count": null,
   "metadata": {},
   "outputs": [],
   "source": []
  }
 ],
 "metadata": {
  "kernelspec": {
   "display_name": "Python 3",
   "language": "python",
   "name": "python3"
  },
  "language_info": {
   "codemirror_mode": {
    "name": "ipython",
    "version": 3
   },
   "file_extension": ".py",
   "mimetype": "text/x-python",
   "name": "python",
   "nbconvert_exporter": "python",
   "pygments_lexer": "ipython3",
   "version": "3.8.5"
  }
 },
 "nbformat": 4,
 "nbformat_minor": 4
}
