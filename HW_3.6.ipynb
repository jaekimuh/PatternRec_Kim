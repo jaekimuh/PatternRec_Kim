{
 "cells": [
  {
   "cell_type": "code",
   "execution_count": 61,
   "metadata": {},
   "outputs": [],
   "source": [
    "import numpy as np\n",
    "import matplotlib.pyplot as plt\n",
    "import os\n",
    "import math\n",
    "import os\n",
    "import scipy\n",
    "import scipy.io as io\n",
    "from PIL import Image\n",
    "from skimage.transform import resize\n",
    "from skimage.transform import rescale, resize, downscale_local_mean\n"
   ]
  },
  {
   "cell_type": "code",
   "execution_count": 37,
   "metadata": {},
   "outputs": [],
   "source": [
    "vortall_mat = io.loadmat(os.path.join('.','DATA','VORTALL.mat'))\n",
    "X = vortall_mat['VORTALL']"
   ]
  },
  {
   "cell_type": "code",
   "execution_count": 55,
   "metadata": {},
   "outputs": [
    {
     "data": {
      "text/plain": [
       "{'__header__': b'MATLAB 5.0 MAT-file, Platform: MACI64, Created on: Mon Jan 28 19:23:11 2019',\n",
       " '__version__': '1.0',\n",
       " '__globals__': [],\n",
       " 'VORTALL': array([[-5.92220e-15, -4.68318e-15, -2.94902e-15, ..., -9.62025e-15,\n",
       "         -8.86421e-15, -7.27853e-15],\n",
       "        [-6.01624e-15, -4.61205e-15, -2.58238e-15, ..., -9.57891e-15,\n",
       "         -8.89550e-15, -7.31406e-15],\n",
       "        [-5.92116e-15, -4.68413e-15, -2.50956e-15, ..., -9.98390e-15,\n",
       "         -8.95430e-15, -7.50686e-15],\n",
       "        ...,\n",
       "        [-1.47386e-02, -5.92327e-03, -1.69510e-03, ..., -3.54696e-02,\n",
       "         -3.64824e-02, -2.84128e-02],\n",
       "        [-1.36956e-02, -5.31169e-03, -1.47472e-03, ..., -4.07780e-02,\n",
       "         -3.80910e-02, -2.78294e-02],\n",
       "        [-1.26353e-02, -4.73980e-03, -1.27796e-03, ..., -4.49435e-02,\n",
       "         -3.89362e-02, -2.69284e-02]])}"
      ]
     },
     "execution_count": 55,
     "metadata": {},
     "output_type": "execute_result"
    }
   ],
   "source": [
    "vortall_mat"
   ]
  },
  {
   "cell_type": "code",
   "execution_count": 38,
   "metadata": {},
   "outputs": [
    {
     "data": {
      "text/plain": [
       "(89351, 151)"
      ]
     },
     "execution_count": 38,
     "metadata": {},
     "output_type": "execute_result"
    }
   ],
   "source": [
    "X.shape\n"
   ]
  },
  {
   "cell_type": "code",
   "execution_count": 71,
   "metadata": {},
   "outputs": [],
   "source": [
    "\n",
    "n = 449 \n",
    "m = 199\n",
    "nn = int(449/20)\n",
    "mm = int(m/20)"
   ]
  },
  {
   "cell_type": "code",
   "execution_count": 94,
   "metadata": {},
   "outputs": [],
   "source": [
    "M = X.shape[1]\n",
    "Theta = np.zeros((3600, M ))\n",
    "for k in range(M):\n",
    "    temp = np.reshape(np.copy(X[:,k]), (n,m))\n",
    "    tempSmall = rescale(temp, 0.2, anti_aliasing=True)\n",
    "    Theta[:,k] = np.reshape(tempSmall, (3600,) )"
   ]
  },
  {
   "cell_type": "code",
   "execution_count": 95,
   "metadata": {},
   "outputs": [],
   "source": [
    "## Renormalize Columns of Theta\n",
    "normTheta = np.zeros(M)\n",
    "for k in range(M):\n",
    "    normTheta[k] = np.linalg.norm(Theta[:,k])\n",
    "    Theta[:,k] = Theta[:,k]/normTheta[k]\n"
   ]
  },
  {
   "cell_type": "code",
   "execution_count": 96,
   "metadata": {},
   "outputs": [
    {
     "data": {
      "image/png": "[encoded data removed]",
      "text/plain": [
       "<Figure size 432x288 with 1 Axes>"
      ]
     },
     "metadata": {},
     "output_type": "display_data"
    },
    {
     "data": {
      "image/png": "[encoded data removed]",
      "text/plain": [
       "<Figure size 432x288 with 1 Axes>"
      ]
     },
     "metadata": {
      "needs_background": "light"
     },
     "output_type": "display_data"
    }
   ],
   "source": [
    "%matplotlib inline\n",
    "import time\n",
    "import pylab as pl\n",
    "from IPython import display\n",
    "\n",
    "for i in range(50):\n",
    "    M = np.reshape(Theta[:,i], (90,40))\n",
    "    plt.title('r = ' + str(i))\n",
    "    plt.imshow(M)\n",
    "    plt.axis('off')\n",
    "    display.clear_output(wait=True)\n",
    "    display.display(pl.gcf())\n",
    "    time.sleep(1.0)"
   ]
  },
  {
   "cell_type": "code",
   "execution_count": 98,
   "metadata": {},
   "outputs": [],
   "source": [
    "x1 = np.copy(X[:, 100])\n",
    "xx = np.copy(x1) + np.random.randn(*x1.shape)\n",
    "tempp = np.reshape(np.copy(xx), (n,m))\n",
    "temppSmall = rescale(temp, 0.2, anti_aliasing=True)\n",
    "Thetaa= np.reshape(tempSmall, (3600,) )"
   ]
  },
  {
   "cell_type": "code",
   "execution_count": 99,
   "metadata": {},
   "outputs": [],
   "source": [
    "# L1 Minimum norm solution s_L1\n",
    "def L1_norm(x):\n",
    "    return np.linalg.norm(x,ord=1)\n",
    "\n"
   ]
  },
  {
   "cell_type": "code",
   "execution_count": null,
   "metadata": {},
   "outputs": [],
   "source": []
  }
 ],
 "metadata": {
  "kernelspec": {
   "display_name": "Python 3",
   "language": "python",
   "name": "python3"
  },
  "language_info": {
   "codemirror_mode": {
    "name": "ipython",
    "version": 3
   },
   "file_extension": ".py",
   "mimetype": "text/x-python",
   "name": "python",
   "nbconvert_exporter": "python",
   "pygments_lexer": "ipython3",
   "version": "3.8.5"
  }
 },
 "nbformat": 4,
 "nbformat_minor": 4
}
