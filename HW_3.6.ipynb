{
 "cells": [
  {
   "cell_type": "code",
   "execution_count": 61,
   "metadata": {},
   "outputs": [],
   "source": [
    "import numpy as np\n",
    "import matplotlib.pyplot as plt\n",
    "import os\n",
    "import math\n",
    "import os\n",
    "import scipy\n",
    "import scipy.io as io\n",
    "from PIL import Image\n",
    "from skimage.transform import resize\n",
    "from skimage.transform import rescale, resize, downscale_local_mean\n"
   ]
  },
  {
   "cell_type": "code",
   "execution_count": 37,
   "metadata": {},
   "outputs": [],
   "source": [
    "vortall_mat = io.loadmat(os.path.join('.','DATA','VORTALL.mat'))\n",
    "X = vortall_mat['VORTALL']"
   ]
  },
  {
   "cell_type": "code",
   "execution_count": 55,
   "metadata": {},
   "outputs": [
    {
     "data": {
      "text/plain": [
       "{'__header__': b'MATLAB 5.0 MAT-file, Platform: MACI64, Created on: Mon Jan 28 19:23:11 2019',\n",
       " '__version__': '1.0',\n",
       " '__globals__': [],\n",
       " 'VORTALL': array([[-5.92220e-15, -4.68318e-15, -2.94902e-15, ..., -9.62025e-15,\n",
       "         -8.86421e-15, -7.27853e-15],\n",
       "        [-6.01624e-15, -4.61205e-15, -2.58238e-15, ..., -9.57891e-15,\n",
       "         -8.89550e-15, -7.31406e-15],\n",
       "        [-5.92116e-15, -4.68413e-15, -2.50956e-15, ..., -9.98390e-15,\n",
       "         -8.95430e-15, -7.50686e-15],\n",
       "        ...,\n",
       "        [-1.47386e-02, -5.92327e-03, -1.69510e-03, ..., -3.54696e-02,\n",
       "         -3.64824e-02, -2.84128e-02],\n",
       "        [-1.36956e-02, -5.31169e-03, -1.47472e-03, ..., -4.07780e-02,\n",
       "         -3.80910e-02, -2.78294e-02],\n",
       "        [-1.26353e-02, -4.73980e-03, -1.27796e-03, ..., -4.49435e-02,\n",
       "         -3.89362e-02, -2.69284e-02]])}"
      ]
     },
     "execution_count": 55,
     "metadata": {},
     "output_type": "execute_result"
    }
   ],
   "source": [
    "vortall_mat"
   ]
  },
  {
   "cell_type": "code",
   "execution_count": 38,
   "metadata": {},
   "outputs": [
    {
     "data": {
      "text/plain": [
       "(89351, 151)"
      ]
     },
     "execution_count": 38,
     "metadata": {},
     "output_type": "execute_result"
    }
   ],
   "source": [
    "X.shape\n"
   ]
  },
  {
   "cell_type": "code",
   "execution_count": 71,
   "metadata": {},
   "outputs": [],
   "source": [
    "\n",
    "n = 449 \n",
    "m = 199\n",
    "nn = int(449/20)\n",
    "mm = int(m/20)"
   ]
  },
  {
   "cell_type": "code",
   "execution_count": 94,
   "metadata": {},
   "outputs": [],
   "source": [
    "M = X.shape[1]\n",
    "Theta = np.zeros((3600, M ))\n",
    "for k in range(M):\n",
    "    temp = np.reshape(np.copy(X[:,k]), (n,m))\n",
    "    tempSmall = rescale(temp, 0.2, anti_aliasing=True)\n",
    "    Theta[:,k] = np.reshape(tempSmall, (3600,) )"
   ]
  },
  {
   "cell_type": "code",
   "execution_count": 95,
   "metadata": {},
   "outputs": [],
   "source": [
    "## Renormalize Columns of Theta\n",
    "normTheta = np.zeros(M)\n",
    "for k in range(M):\n",
    "    normTheta[k] = np.linalg.norm(Theta[:,k])\n",
    "    Theta[:,k] = Theta[:,k]/normTheta[k]\n"
   ]
  },
  {
   "cell_type": "code",
   "execution_count": 96,
   "metadata": {},
   "outputs": [
    {
     "data": {
      "image/png": "[encoded data removed]",
      "text/plain": [
       "<Figure size 432x288 with 1 Axes>"
      ]
     },
     "metadata": {},
     "output_type": "display_data"
    },
    {
     "data": {
      "image/png": "[encoded data removed]",
      "text/plain": [
       "<Figure size 432x288 with 1 Axes>"
      ]
     },
     "metadata": {
      "needs_background": "light"
     },
     "output_type": "display_data"
    }
   ],
   "source": [
    "%matplotlib inline\n",
    "import time\n",
    "import pylab as pl\n",
    "from IPython import display\n",
    "\n",
    "for i in range(50):\n",
    "    M = np.reshape(Theta[:,i], (90,40))\n",
    "    plt.title('r = ' + str(i))\n",
    "    plt.imshow(M)\n",
    "    plt.axis('off')\n",
    "    display.clear_output(wait=True)\n",
    "    display.display(pl.gcf())\n",
    "    time.sleep(1.0)"
   ]
  },
  {
   "cell_type": "code",
   "execution_count": 102,
   "metadata": {},
   "outputs": [],
   "source": [
    "x1 = np.copy(X[:, 100])\n",
    "testImage = np.copy(x1) + np.random.randn(*x1.shape)\n",
    "tempp = np.reshape(np.copy(testImage), (n,m))\n",
    "temppSmall = rescale(tempp, 0.2, anti_aliasing=True)\n",
    "TestImage= np.reshape(temppSmall, (3600,) )"
   ]
  },
  {
   "cell_type": "code",
   "execution_count": 105,
   "metadata": {},
   "outputs": [],
   "source": [
    "# L1 Minimum norm solution s_L1\n",
    "def L1_norm(x):\n",
    "    return np.linalg.norm(x,ord=1)\n",
    "\n",
    "from scipy.optimize import minimize\n"
   ]
  },
  {
   "cell_type": "code",
   "execution_count": 110,
   "metadata": {},
   "outputs": [],
   "source": [
    "\n",
    "eps = 0.01\n",
    "\n",
    "constr = ({'type': 'ineq', 'fun': lambda x:  eps - np.linalg.norm(Theta @ x - TestImage,2)})\n",
    "\n",
    "x0 = np.linalg.pinv(Theta) @ TestImage\n",
    "res = minimize(L1_norm, x0, method = 'SLSQP', constraints = constr)\n",
    "s = res.x"
   ]
  },
  {
   "cell_type": "code",
   "execution_count": 111,
   "metadata": {},
   "outputs": [
    {
     "data": {
      "text/plain": [
       "array([  -70258.92907584,    75844.46496858,  -885645.41506826,\n",
       "        -337098.32899135,   408625.66123983,   383506.63889518,\n",
       "        -191215.56826262,  1061244.04468469,    74242.43232394,\n",
       "         146956.62271191,   341613.62335813, -1751360.53481782,\n",
       "         749529.52505321,  -863128.1595752 ,  -591588.22811986,\n",
       "        -578157.64591615,  -165839.23609282,  1059974.36040087,\n",
       "         484034.28510768,   379367.43943085,  -807675.8799552 ,\n",
       "         -43287.55415424,   -75969.99012922,   211939.27052959,\n",
       "         206432.33935439,   754117.13276832, -1110265.41856217,\n",
       "          80347.12646873,   183950.13033508,  -958290.57571223,\n",
       "        -570076.65167763,   -84012.27774209,   875824.99608305,\n",
       "         147009.51021324,   745573.66334669,   118540.28427926,\n",
       "        -614286.66913684,  -283224.35797662,  -526415.42550177,\n",
       "         -51081.61859729,  -443359.15679426,  -127312.28416198,\n",
       "        -183561.25991507,  1357969.64317799,   867616.6717863 ,\n",
       "         973516.98596383,  -299075.18127099, -1225838.32510422,\n",
       "          41687.70772334,   148724.080632  ,   385347.85065113,\n",
       "         636231.67370433,   946139.03572066,   292412.9706682 ,\n",
       "        -186259.77794882,   137554.28481688, -1064072.77893846,\n",
       "         855118.65326949,    46899.93662576,   265237.02217412,\n",
       "       -1239203.87142076,   135090.90641112,  -838685.76211138,\n",
       "          92213.72389104,   114566.5317558 ,   -87292.00365838,\n",
       "         248563.76909676,  -999688.9837139 ,  1153594.62739875,\n",
       "         219907.16306421,   695340.73490843,    79585.74209557,\n",
       "        -489236.35166933,  -881457.44491412,  -305307.17605193,\n",
       "        -798408.47472863,  1336029.99388539,  -313475.65675755,\n",
       "       -1318866.88994374, -1217646.54772716,     3382.45524932,\n",
       "         493100.38858279,   -28860.77257658,   276546.76925762,\n",
       "         500684.36046507,   736306.09957671,  1510296.83564723,\n",
       "        -539257.77779125,  -472873.68331921,   953038.10582993,\n",
       "        2342034.90503313,  -301672.12577649,   909874.12658644,\n",
       "         415421.62825748,  -916964.1504861 ,  -732681.86515997,\n",
       "        -445055.79612862,  1328915.72689894,  -770264.27824643,\n",
       "        -301872.07348709,  -731018.27771915,   569261.1926069 ,\n",
       "         630577.24363013,   156788.36505233,  -185598.14551781,\n",
       "         348069.10627086, -1536161.32003284,   186141.18089394,\n",
       "        -869497.71818287,   203084.6664103 ,   323831.65028695,\n",
       "        -243267.21175655,    55016.61138844,   173003.6746491 ,\n",
       "         426520.83721111,  -253157.66938684,   -81543.74248758,\n",
       "        -393733.95518929,   962334.60544033,  -587012.21008846,\n",
       "        -645868.26301954,   842705.74480719,  -516877.68493232,\n",
       "         -62890.23804532,   473360.86790094,  -263744.23421971,\n",
       "         314861.9720623 ,   125139.60949515,  -553834.14021458,\n",
       "          15407.17997295,   248376.45078334,  -560221.69004915,\n",
       "        1411560.96107181,  -518845.58213053,   308198.82589473,\n",
       "           6281.10193735,   734822.72807206,   200984.72318473,\n",
       "        1584368.13794499,   864657.87481001,  -322881.04083215,\n",
       "          77231.56157334,  -937593.38142586,  -947966.62188875,\n",
       "       -1151031.25843736,  -605729.02587954, -1687860.39941681,\n",
       "        1758395.57449944, -1017492.89342803,  -148488.89917893,\n",
       "         -79101.40636106])"
      ]
     },
     "execution_count": 111,
     "metadata": {},
     "output_type": "execute_result"
    }
   ],
   "source": [
    "s"
   ]
  },
  {
   "cell_type": "code",
   "execution_count": null,
   "metadata": {},
   "outputs": [],
   "source": []
  }
 ],
 "metadata": {
  "kernelspec": {
   "display_name": "Python 3",
   "language": "python",
   "name": "python3"
  },
  "language_info": {
   "codemirror_mode": {
    "name": "ipython",
    "version": 3
   },
   "file_extension": ".py",
   "mimetype": "text/x-python",
   "name": "python",
   "nbconvert_exporter": "python",
   "pygments_lexer": "ipython3",
   "version": "3.8.5"
  }
 },
 "nbformat": 4,
 "nbformat_minor": 4
}
