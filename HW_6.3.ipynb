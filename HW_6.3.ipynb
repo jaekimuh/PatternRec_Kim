{
 "cells": [
  {
   "cell_type": "code",
   "execution_count": 1,
   "metadata": {},
   "outputs": [],
   "source": [
    "\n",
    "import numpy as np\n",
    "import matplotlib.pyplot as plt\n",
    "from matplotlib import rcParams\n",
    "from scipy import io\n",
    "import os\n",
    "from sklearn import linear_model\n",
    "\n",
    "\n",
    "rcParams.update({'font.size': 18})\n",
    "plt.rcParams['figure.figsize'] = [12, 12]\n"
   ]
  },
  {
   "cell_type": "code",
   "execution_count": 12,
   "metadata": {},
   "outputs": [],
   "source": [
    "vortall_mat = io.loadmat(os.path.join('.','DATA','VORTALL.mat'))\n",
    "#print(vortall_mat)\n",
    "X = vortall_mat['VORTALL']\n"
   ]
  },
  {
   "cell_type": "markdown",
   "metadata": {},
   "source": [
    "#### Using the first P percent of the temporal snapshots, forcast the remaining (100-P) percent furture state data."
   ]
  },
  {
   "cell_type": "code",
   "execution_count": 17,
   "metadata": {},
   "outputs": [],
   "source": [
    "p = 0.8\n",
    "train = X[:, :int(X.shape[1]*p)] \n",
    "test = X[:, int(X.shape[1]*p)-1:] "
   ]
  },
  {
   "cell_type": "code",
   "execution_count": 18,
   "metadata": {},
   "outputs": [
    {
     "data": {
      "text/plain": [
       "array([[-7.74875e-15, -5.59074e-15, -5.14477e-15, ..., -9.62025e-15,\n",
       "        -8.86421e-15, -7.27853e-15],\n",
       "       [-7.94327e-15, -5.85762e-15, -5.17866e-15, ..., -9.57891e-15,\n",
       "        -8.89550e-15, -7.31406e-15],\n",
       "       [-8.05137e-15, -5.85783e-15, -5.26787e-15, ..., -9.98390e-15,\n",
       "        -8.95430e-15, -7.50686e-15],\n",
       "       ...,\n",
       "       [-3.53231e-02, -2.57371e-02, -1.38856e-02, ..., -3.54696e-02,\n",
       "        -3.64824e-02, -2.84128e-02],\n",
       "       [-3.62636e-02, -2.49101e-02, -1.28636e-02, ..., -4.07780e-02,\n",
       "        -3.80910e-02, -2.78294e-02],\n",
       "       [-3.65483e-02, -2.38493e-02, -1.18343e-02, ..., -4.49435e-02,\n",
       "        -3.89362e-02, -2.69284e-02]])"
      ]
     },
     "execution_count": 18,
     "metadata": {},
     "output_type": "execute_result"
    }
   ],
   "source": [
    "test"
   ]
  },
  {
   "cell_type": "code",
   "execution_count": null,
   "metadata": {},
   "outputs": [],
   "source": []
  }
 ],
 "metadata": {
  "kernelspec": {
   "display_name": "Python 3",
   "language": "python",
   "name": "python3"
  },
  "language_info": {
   "codemirror_mode": {
    "name": "ipython",
    "version": 3
   },
   "file_extension": ".py",
   "mimetype": "text/x-python",
   "name": "python",
   "nbconvert_exporter": "python",
   "pygments_lexer": "ipython3",
   "version": "3.8.5"
  }
 },
 "nbformat": 4,
 "nbformat_minor": 4
}
