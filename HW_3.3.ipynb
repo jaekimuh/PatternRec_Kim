{
 "cells": [
  {
   "cell_type": "markdown",
   "metadata": {},
   "source": [
    "## Create a K-sparse vector s of Fourier coeficients in a fourier basis"
   ]
  },
  {
   "cell_type": "code",
   "execution_count": 2,
   "metadata": {},
   "outputs": [],
   "source": [
    "import numpy as np\n",
    "import matplotlib.pyplot as plt\n",
    "plt.rcParams['figure.figsize'] = [8, 8]\n",
    "plt.rcParams.update({'font.size': 18})"
   ]
  },
  {
   "cell_type": "code",
   "execution_count": 40,
   "metadata": {},
   "outputs": [],
   "source": [
    "n = 50\n",
    "w = np.exp(-1j * 2 * np.pi / n)\n",
    "\n",
    "J,K = np.meshgrid(np.arange(n),np.arange(n))\n",
    "DFT = np.power(w,J*K)\n",
    "DFT = np.real(DFT)\n",
    "       \n"
   ]
  },
  {
   "cell_type": "code",
   "execution_count": 34,
   "metadata": {},
   "outputs": [
    {
     "name": "stdout",
     "output_type": "stream",
     "text": [
      "[ 4  7 12 25 41]\n"
     ]
    }
   ],
   "source": [
    "K = 5\n",
    "newArray = np.random.randint(0, n, size=(5,))\n",
    "newArray.sort()\n",
    "print(newArray)\n",
    "\n",
    "randomVect = np.zeros(n, dtype = int)\n",
    "arr = np.asarray(randomVect)\n",
    "\n",
    "for number in newArray:\n",
    "    arr[number]=1\n",
    "    \n"
   ]
  },
  {
   "cell_type": "markdown",
   "metadata": {},
   "source": [
    "Create a Gaussian random sampling matrix to creat measurement vector y = C*\\phi*s"
   ]
  },
  {
   "cell_type": "code",
   "execution_count": 38,
   "metadata": {},
   "outputs": [],
   "source": [
    "x = DFT@randomVect"
   ]
  },
  {
   "cell_type": "code",
   "execution_count": 41,
   "metadata": {},
   "outputs": [],
   "source": [
    "for k in range(1, 101):\n",
    "    C = np.random.normal(0, 1, size=(k, n))\n",
    "    Theta = C@DFT\n",
    "    y = C @ DFT @ s"
   ]
  },
  {
   "cell_type": "code",
   "execution_count": 42,
   "metadata": {},
   "outputs": [],
   "source": [
    "# L1 Minimum norm solution s_L1\n",
    "def L1_norm(x):\n",
    "    return np.linalg.norm(x,ord=1)\n",
    "\n",
    "from scipy.optimize import minimize\n",
    "eps = 10\n",
    "\n",
    "constr = ({'type': 'ineq', 'fun': lambda x:  eps - np.linalg.norm(Theta @ x - y1,2)})\n",
    "\n",
    "y1 = np.copy(y)\n",
    "\n",
    "x0 = np.linalg.pinv(Theta) @ y1\n",
    "res = minimize(L1_norm, x0, method = 'SLSQP', constraints = constr)\n",
    "s = res.x"
   ]
  },
  {
   "cell_type": "code",
   "execution_count": 43,
   "metadata": {},
   "outputs": [
    {
     "data": {
      "text/plain": [
       "array([ 4.96185198e+00,  1.00035567e+00, -5.72890960e-02, -3.01381374e+00,\n",
       "        4.50981115e-01, -9.57115059e-01,  4.35017331e-01, -1.39302106e+00,\n",
       "        1.03217848e+00, -1.36235593e+00, -8.72272526e-09, -9.12648219e-01,\n",
       "        2.83282210e+00,  5.37530447e-01,  1.09536920e+00, -1.01213026e+00,\n",
       "        2.07765694e+00, -5.39472111e-01, -1.46015699e+00, -4.35543514e+00,\n",
       "        7.29852429e-03,  6.49382550e-01,  2.76408697e+00, -7.29048164e-01,\n",
       "        6.41042446e-01, -9.88813569e-01,  1.07358328e+00, -4.64218132e-01,\n",
       "        2.60782606e+00,  6.18134228e-01,  1.22015457e-03, -4.22263596e+00,\n",
       "       -1.04610340e+00, -5.55089650e-01,  2.15579620e+00, -9.35055603e-01,\n",
       "        1.01726129e+00,  5.92246908e-01,  2.76252746e+00, -8.34536860e-01,\n",
       "       -7.66282159e-09, -1.48733754e+00,  9.69663543e-01, -1.42426011e+00,\n",
       "        5.36596908e-01, -1.03237554e+00,  3.88473613e-01, -2.90054056e+00,\n",
       "       -4.45134039e-01,  9.36810749e-01])"
      ]
     },
     "execution_count": 43,
     "metadata": {},
     "output_type": "execute_result"
    }
   ],
   "source": [
    "s"
   ]
  },
  {
   "cell_type": "code",
   "execution_count": null,
   "metadata": {},
   "outputs": [],
   "source": []
  }
 ],
 "metadata": {
  "kernelspec": {
   "display_name": "Python 3",
   "language": "python",
   "name": "python3"
  },
  "language_info": {
   "codemirror_mode": {
    "name": "ipython",
    "version": 3
   },
   "file_extension": ".py",
   "mimetype": "text/x-python",
   "name": "python",
   "nbconvert_exporter": "python",
   "pygments_lexer": "ipython3",
   "version": "3.8.5"
  }
 },
 "nbformat": 4,
 "nbformat_minor": 4
}
